{
 "cells": [
  {
   "cell_type": "code",
   "execution_count": 245,
   "id": "83cd4c68-5cdb-4a8a-ae78-ac08e8fd51ce",
   "metadata": {},
   "outputs": [],
   "source": [
    "import pandas as pd\n",
    "import numpy as np"
   ]
  },
  {
   "cell_type": "code",
   "execution_count": 246,
   "id": "e4f45805-4f2c-473d-b262-4eb146306445",
   "metadata": {},
   "outputs": [],
   "source": [
    "import warnings\n",
    "warnings.filterwarnings('ignore')"
   ]
  },
  {
   "cell_type": "code",
   "execution_count": 280,
   "id": "63ded95e-99d0-4ddf-8929-533b6255d842",
   "metadata": {},
   "outputs": [
    {
     "data": {
      "text/html": [
       "<div>\n",
       "<style scoped>\n",
       "    .dataframe tbody tr th:only-of-type {\n",
       "        vertical-align: middle;\n",
       "    }\n",
       "\n",
       "    .dataframe tbody tr th {\n",
       "        vertical-align: top;\n",
       "    }\n",
       "\n",
       "    .dataframe thead th {\n",
       "        text-align: right;\n",
       "    }\n",
       "</style>\n",
       "<table border=\"1\" class=\"dataframe\">\n",
       "  <thead>\n",
       "    <tr style=\"text-align: right;\">\n",
       "      <th></th>\n",
       "      <th>symboling</th>\n",
       "      <th>normalized_losses</th>\n",
       "      <th>Fuel_type</th>\n",
       "      <th>make</th>\n",
       "      <th>num_of_doors</th>\n",
       "      <th>aspiration</th>\n",
       "      <th>wheel_base</th>\n",
       "      <th>engine_location</th>\n",
       "      <th>drive_wheels</th>\n",
       "      <th>body_style</th>\n",
       "      <th>...</th>\n",
       "      <th>engine_size</th>\n",
       "      <th>fuel_system</th>\n",
       "      <th>bore</th>\n",
       "      <th>stroke</th>\n",
       "      <th>compression_ratio</th>\n",
       "      <th>horsepower</th>\n",
       "      <th>peak_rpm</th>\n",
       "      <th>city_mpg</th>\n",
       "      <th>highway_mpg</th>\n",
       "      <th>price</th>\n",
       "    </tr>\n",
       "  </thead>\n",
       "  <tbody>\n",
       "    <tr>\n",
       "      <th>0</th>\n",
       "      <td>3</td>\n",
       "      <td>?</td>\n",
       "      <td>gas</td>\n",
       "      <td>std</td>\n",
       "      <td>two</td>\n",
       "      <td>convertible</td>\n",
       "      <td>rwd</td>\n",
       "      <td>front</td>\n",
       "      <td>88.6</td>\n",
       "      <td>alfa-romero</td>\n",
       "      <td>...</td>\n",
       "      <td>130</td>\n",
       "      <td>mpfi</td>\n",
       "      <td>3.47</td>\n",
       "      <td>2.68</td>\n",
       "      <td>9.0</td>\n",
       "      <td>111</td>\n",
       "      <td>5000</td>\n",
       "      <td>21</td>\n",
       "      <td>27</td>\n",
       "      <td>13495</td>\n",
       "    </tr>\n",
       "    <tr>\n",
       "      <th>1</th>\n",
       "      <td>3</td>\n",
       "      <td>?</td>\n",
       "      <td>gas</td>\n",
       "      <td>std</td>\n",
       "      <td>two</td>\n",
       "      <td>convertible</td>\n",
       "      <td>rwd</td>\n",
       "      <td>front</td>\n",
       "      <td>88.6</td>\n",
       "      <td>alfa-romero</td>\n",
       "      <td>...</td>\n",
       "      <td>130</td>\n",
       "      <td>mpfi</td>\n",
       "      <td>3.47</td>\n",
       "      <td>2.68</td>\n",
       "      <td>9.0</td>\n",
       "      <td>111</td>\n",
       "      <td>5000</td>\n",
       "      <td>21</td>\n",
       "      <td>27</td>\n",
       "      <td>16500</td>\n",
       "    </tr>\n",
       "    <tr>\n",
       "      <th>2</th>\n",
       "      <td>1</td>\n",
       "      <td>?</td>\n",
       "      <td>gas</td>\n",
       "      <td>std</td>\n",
       "      <td>two</td>\n",
       "      <td>hatchback</td>\n",
       "      <td>rwd</td>\n",
       "      <td>front</td>\n",
       "      <td>94.5</td>\n",
       "      <td>alfa-romero</td>\n",
       "      <td>...</td>\n",
       "      <td>152</td>\n",
       "      <td>mpfi</td>\n",
       "      <td>2.68</td>\n",
       "      <td>3.47</td>\n",
       "      <td>9.0</td>\n",
       "      <td>154</td>\n",
       "      <td>5000</td>\n",
       "      <td>19</td>\n",
       "      <td>26</td>\n",
       "      <td>16500</td>\n",
       "    </tr>\n",
       "    <tr>\n",
       "      <th>3</th>\n",
       "      <td>2</td>\n",
       "      <td>164</td>\n",
       "      <td>gas</td>\n",
       "      <td>std</td>\n",
       "      <td>four</td>\n",
       "      <td>sedan</td>\n",
       "      <td>fwd</td>\n",
       "      <td>front</td>\n",
       "      <td>99.8</td>\n",
       "      <td>audi</td>\n",
       "      <td>...</td>\n",
       "      <td>109</td>\n",
       "      <td>mpfi</td>\n",
       "      <td>3.19</td>\n",
       "      <td>3.4</td>\n",
       "      <td>10.0</td>\n",
       "      <td>102</td>\n",
       "      <td>5500</td>\n",
       "      <td>24</td>\n",
       "      <td>30</td>\n",
       "      <td>13950</td>\n",
       "    </tr>\n",
       "    <tr>\n",
       "      <th>4</th>\n",
       "      <td>2</td>\n",
       "      <td>164</td>\n",
       "      <td>gas</td>\n",
       "      <td>std</td>\n",
       "      <td>four</td>\n",
       "      <td>sedan</td>\n",
       "      <td>4wd</td>\n",
       "      <td>front</td>\n",
       "      <td>99.4</td>\n",
       "      <td>audi</td>\n",
       "      <td>...</td>\n",
       "      <td>136</td>\n",
       "      <td>mpfi</td>\n",
       "      <td>3.19</td>\n",
       "      <td>3.4</td>\n",
       "      <td>8.0</td>\n",
       "      <td>115</td>\n",
       "      <td>5500</td>\n",
       "      <td>18</td>\n",
       "      <td>22</td>\n",
       "      <td>17450</td>\n",
       "    </tr>\n",
       "    <tr>\n",
       "      <th>...</th>\n",
       "      <td>...</td>\n",
       "      <td>...</td>\n",
       "      <td>...</td>\n",
       "      <td>...</td>\n",
       "      <td>...</td>\n",
       "      <td>...</td>\n",
       "      <td>...</td>\n",
       "      <td>...</td>\n",
       "      <td>...</td>\n",
       "      <td>...</td>\n",
       "      <td>...</td>\n",
       "      <td>...</td>\n",
       "      <td>...</td>\n",
       "      <td>...</td>\n",
       "      <td>...</td>\n",
       "      <td>...</td>\n",
       "      <td>...</td>\n",
       "      <td>...</td>\n",
       "      <td>...</td>\n",
       "      <td>...</td>\n",
       "      <td>...</td>\n",
       "    </tr>\n",
       "    <tr>\n",
       "      <th>200</th>\n",
       "      <td>-1</td>\n",
       "      <td>95</td>\n",
       "      <td>gas</td>\n",
       "      <td>std</td>\n",
       "      <td>four</td>\n",
       "      <td>sedan</td>\n",
       "      <td>rwd</td>\n",
       "      <td>front</td>\n",
       "      <td>109.1</td>\n",
       "      <td>volvo</td>\n",
       "      <td>...</td>\n",
       "      <td>141</td>\n",
       "      <td>mpfi</td>\n",
       "      <td>3.78</td>\n",
       "      <td>3.15</td>\n",
       "      <td>9.5</td>\n",
       "      <td>114</td>\n",
       "      <td>5400</td>\n",
       "      <td>23</td>\n",
       "      <td>28</td>\n",
       "      <td>16845</td>\n",
       "    </tr>\n",
       "    <tr>\n",
       "      <th>201</th>\n",
       "      <td>-1</td>\n",
       "      <td>95</td>\n",
       "      <td>gas</td>\n",
       "      <td>turbo</td>\n",
       "      <td>four</td>\n",
       "      <td>sedan</td>\n",
       "      <td>rwd</td>\n",
       "      <td>front</td>\n",
       "      <td>109.1</td>\n",
       "      <td>volvo</td>\n",
       "      <td>...</td>\n",
       "      <td>141</td>\n",
       "      <td>mpfi</td>\n",
       "      <td>3.78</td>\n",
       "      <td>3.15</td>\n",
       "      <td>8.7</td>\n",
       "      <td>160</td>\n",
       "      <td>5300</td>\n",
       "      <td>19</td>\n",
       "      <td>25</td>\n",
       "      <td>19045</td>\n",
       "    </tr>\n",
       "    <tr>\n",
       "      <th>202</th>\n",
       "      <td>-1</td>\n",
       "      <td>95</td>\n",
       "      <td>gas</td>\n",
       "      <td>std</td>\n",
       "      <td>four</td>\n",
       "      <td>sedan</td>\n",
       "      <td>rwd</td>\n",
       "      <td>front</td>\n",
       "      <td>109.1</td>\n",
       "      <td>volvo</td>\n",
       "      <td>...</td>\n",
       "      <td>173</td>\n",
       "      <td>mpfi</td>\n",
       "      <td>3.58</td>\n",
       "      <td>2.87</td>\n",
       "      <td>8.8</td>\n",
       "      <td>134</td>\n",
       "      <td>5500</td>\n",
       "      <td>18</td>\n",
       "      <td>23</td>\n",
       "      <td>21485</td>\n",
       "    </tr>\n",
       "    <tr>\n",
       "      <th>203</th>\n",
       "      <td>-1</td>\n",
       "      <td>95</td>\n",
       "      <td>diesel</td>\n",
       "      <td>turbo</td>\n",
       "      <td>four</td>\n",
       "      <td>sedan</td>\n",
       "      <td>rwd</td>\n",
       "      <td>front</td>\n",
       "      <td>109.1</td>\n",
       "      <td>volvo</td>\n",
       "      <td>...</td>\n",
       "      <td>145</td>\n",
       "      <td>idi</td>\n",
       "      <td>3.01</td>\n",
       "      <td>3.4</td>\n",
       "      <td>23.0</td>\n",
       "      <td>106</td>\n",
       "      <td>4800</td>\n",
       "      <td>26</td>\n",
       "      <td>27</td>\n",
       "      <td>22470</td>\n",
       "    </tr>\n",
       "    <tr>\n",
       "      <th>204</th>\n",
       "      <td>-1</td>\n",
       "      <td>95</td>\n",
       "      <td>gas</td>\n",
       "      <td>turbo</td>\n",
       "      <td>four</td>\n",
       "      <td>sedan</td>\n",
       "      <td>rwd</td>\n",
       "      <td>front</td>\n",
       "      <td>109.1</td>\n",
       "      <td>volvo</td>\n",
       "      <td>...</td>\n",
       "      <td>141</td>\n",
       "      <td>mpfi</td>\n",
       "      <td>3.78</td>\n",
       "      <td>3.15</td>\n",
       "      <td>9.5</td>\n",
       "      <td>114</td>\n",
       "      <td>5400</td>\n",
       "      <td>19</td>\n",
       "      <td>25</td>\n",
       "      <td>22625</td>\n",
       "    </tr>\n",
       "  </tbody>\n",
       "</table>\n",
       "<p>205 rows × 26 columns</p>\n",
       "</div>"
      ],
      "text/plain": [
       "     symboling normalized_losses Fuel_type   make num_of_doors   aspiration  \\\n",
       "0            3                 ?       gas    std          two  convertible   \n",
       "1            3                 ?       gas    std          two  convertible   \n",
       "2            1                 ?       gas    std          two    hatchback   \n",
       "3            2               164       gas    std         four        sedan   \n",
       "4            2               164       gas    std         four        sedan   \n",
       "..         ...               ...       ...    ...          ...          ...   \n",
       "200         -1                95       gas    std         four        sedan   \n",
       "201         -1                95       gas  turbo         four        sedan   \n",
       "202         -1                95       gas    std         four        sedan   \n",
       "203         -1                95    diesel  turbo         four        sedan   \n",
       "204         -1                95       gas  turbo         four        sedan   \n",
       "\n",
       "    wheel_base engine_location  drive_wheels   body_style  ...  engine_size  \\\n",
       "0          rwd           front          88.6  alfa-romero  ...          130   \n",
       "1          rwd           front          88.6  alfa-romero  ...          130   \n",
       "2          rwd           front          94.5  alfa-romero  ...          152   \n",
       "3          fwd           front          99.8         audi  ...          109   \n",
       "4          4wd           front          99.4         audi  ...          136   \n",
       "..         ...             ...           ...          ...  ...          ...   \n",
       "200        rwd           front         109.1        volvo  ...          141   \n",
       "201        rwd           front         109.1        volvo  ...          141   \n",
       "202        rwd           front         109.1        volvo  ...          173   \n",
       "203        rwd           front         109.1        volvo  ...          145   \n",
       "204        rwd           front         109.1        volvo  ...          141   \n",
       "\n",
       "     fuel_system  bore  stroke compression_ratio horsepower  peak_rpm  \\\n",
       "0           mpfi  3.47    2.68               9.0        111      5000   \n",
       "1           mpfi  3.47    2.68               9.0        111      5000   \n",
       "2           mpfi  2.68    3.47               9.0        154      5000   \n",
       "3           mpfi  3.19     3.4              10.0        102      5500   \n",
       "4           mpfi  3.19     3.4               8.0        115      5500   \n",
       "..           ...   ...     ...               ...        ...       ...   \n",
       "200         mpfi  3.78    3.15               9.5        114      5400   \n",
       "201         mpfi  3.78    3.15               8.7        160      5300   \n",
       "202         mpfi  3.58    2.87               8.8        134      5500   \n",
       "203          idi  3.01     3.4              23.0        106      4800   \n",
       "204         mpfi  3.78    3.15               9.5        114      5400   \n",
       "\n",
       "    city_mpg highway_mpg  price  \n",
       "0         21          27  13495  \n",
       "1         21          27  16500  \n",
       "2         19          26  16500  \n",
       "3         24          30  13950  \n",
       "4         18          22  17450  \n",
       "..       ...         ...    ...  \n",
       "200       23          28  16845  \n",
       "201       19          25  19045  \n",
       "202       18          23  21485  \n",
       "203       26          27  22470  \n",
       "204       19          25  22625  \n",
       "\n",
       "[205 rows x 26 columns]"
      ]
     },
     "execution_count": 280,
     "metadata": {},
     "output_type": "execute_result"
    }
   ],
   "source": [
    "cp=pd.read_csv(r\"C:\\python\\car_price.csv\")\n",
    "cp"
   ]
  },
  {
   "cell_type": "code",
   "execution_count": 248,
   "id": "9d7e2396-7587-490a-9c0d-a6613e342102",
   "metadata": {},
   "outputs": [
    {
     "data": {
      "text/plain": [
       "num_of_doors\n",
       "four    114\n",
       "two      89\n",
       "?         2\n",
       "Name: count, dtype: int64"
      ]
     },
     "execution_count": 248,
     "metadata": {},
     "output_type": "execute_result"
    }
   ],
   "source": [
    "cp.num_of_doors.value_counts()\n",
    "\n",
    "# in num of door column there is value in object ,four  and two ... and have two ?? as null ... \n",
    "# convert it in int by rename and inplace by it by any four beacuse 4 is more.."
   ]
  },
  {
   "cell_type": "code",
   "execution_count": 249,
   "id": "4bef242e-ec7c-4fd1-ac75-50df5fc28f54",
   "metadata": {},
   "outputs": [
    {
     "data": {
      "text/plain": [
       "Series([], dtype: int64)"
      ]
     },
     "execution_count": 249,
     "metadata": {},
     "output_type": "execute_result"
    }
   ],
   "source": [
    "cp.isnull().sum()[cp.isnull().sum()>0]\n",
    "\n",
    "# 1 st time they do not detect any nulls ...but there is ?? present as nulls:;\n",
    "#  then i  replace consider ?? as a nan(null value )\n"
   ]
  },
  {
   "cell_type": "code",
   "execution_count": 250,
   "id": "05149ee8-cb5b-4d0e-ba06-e0bda83ad9b5",
   "metadata": {},
   "outputs": [],
   "source": [
    "cp=cp.replace({'?':np.NaN})\n",
    "\n",
    "# consider ??? as NaN  .."
   ]
  },
  {
   "cell_type": "code",
   "execution_count": 251,
   "id": "4715d57a-1c04-4ac0-8ed5-41f7a75e3489",
   "metadata": {},
   "outputs": [
    {
     "data": {
      "text/plain": [
       "normalized_losses    41\n",
       "num_of_doors          2\n",
       "bore                  4\n",
       "stroke                4\n",
       "horsepower            2\n",
       "peak_rpm              2\n",
       "price                 4\n",
       "dtype: int64"
      ]
     },
     "execution_count": 251,
     "metadata": {},
     "output_type": "execute_result"
    }
   ],
   "source": [
    "cp.isnull().sum()[cp.isnull().sum()>0]\n",
    "\n",
    "# then we find again nulls then therre is few nulls \n",
    "# some value contain str values we make it in float value\n",
    "# which help us in data cleaning..\n"
   ]
  },
  {
   "cell_type": "code",
   "execution_count": 252,
   "id": "caf41f97-a240-45d7-bb6a-1019f6ce6346",
   "metadata": {},
   "outputs": [
    {
     "data": {
      "text/plain": [
       "array(['two', 'four', nan], dtype=object)"
      ]
     },
     "execution_count": 252,
     "metadata": {},
     "output_type": "execute_result"
    }
   ],
   "source": [
    "cp.num_of_doors.unique()"
   ]
  },
  {
   "cell_type": "code",
   "execution_count": 253,
   "id": "976434e2-ea43-4825-b085-374d4e9a4e8c",
   "metadata": {},
   "outputs": [],
   "source": [
    "# i just remove 1 st null values ..."
   ]
  },
  {
   "cell_type": "code",
   "execution_count": 254,
   "id": "4785bab5-c9ac-4eab-a839-13b521450be8",
   "metadata": {},
   "outputs": [],
   "source": [
    "# convert null values columns in  float  (by using astype)"
   ]
  },
  {
   "cell_type": "code",
   "execution_count": 255,
   "id": "adf99966-1078-4e58-b9bf-6a65673a5e22",
   "metadata": {},
   "outputs": [],
   "source": [
    "cp = cp.astype({\"normalized_losses\":\"float\",'bore':'float','stroke':'float','horsepower':'float','peak_rpm':'float','price':'float'})"
   ]
  },
  {
   "cell_type": "code",
   "execution_count": 256,
   "id": "96f4d8e8-9621-4d86-bdf0-c08b42655dbf",
   "metadata": {},
   "outputs": [],
   "source": [
    "# these above or below lines are  or t each other.,...,."
   ]
  },
  {
   "cell_type": "code",
   "execution_count": 257,
   "id": "f7cc3643-cb1d-4ef3-8777-753e645654b6",
   "metadata": {
    "scrolled": true
   },
   "outputs": [],
   "source": [
    "cp.normalized_losses = cp.normalized_losses.astype(float)\n",
    "cp.bore = cp.bore.astype(float)\n",
    "cp.stroke = cp.stroke.astype(float)\n",
    "cp.horsepower = cp.horsepower.astype(float)\n",
    "cp.peak_rpm = cp.peak_rpm.astype(float)\n",
    "cp.price = cp.price.astype(float)"
   ]
  },
  {
   "cell_type": "code",
   "execution_count": 258,
   "id": "57c22230-6505-421c-9aa6-89b7092b6f24",
   "metadata": {},
   "outputs": [
    {
     "data": {
      "text/plain": [
       "normalized_losses    41\n",
       "num_of_doors          2\n",
       "bore                  4\n",
       "stroke                4\n",
       "horsepower            2\n",
       "peak_rpm              2\n",
       "price                 4\n",
       "dtype: int64"
      ]
     },
     "execution_count": 258,
     "metadata": {},
     "output_type": "execute_result"
    }
   ],
   "source": [
    "cp.isnull().sum()[cp.isnull().sum()>0]\n"
   ]
  },
  {
   "cell_type": "code",
   "execution_count": 259,
   "id": "f4146815-235c-4311-a2b9-61fff18ce595",
   "metadata": {},
   "outputs": [],
   "source": [
    "cp.normalized_losses.fillna(cp.normalized_losses.mean(), inplace=True)\n",
    "cp.num_of_doors.fillna(\"four\", inplace=True)\n",
    "cp.bore.fillna(cp.bore.mean(), inplace=True)\n",
    "cp.stroke.fillna(cp.stroke.mean(), inplace=True)\n",
    "cp.horsepower.fillna(cp.horsepower.mean(), inplace=True)\n",
    "cp.peak_rpm.fillna(cp.peak_rpm.mean(), inplace=True)\n",
    "cp.price.fillna(cp.price.mean(), inplace=True)\n",
    "\n",
    "\n",
    "# here i gather the mean from perticuller columns(where null is present) for my data where null is present we fill the empty value by mean ."
   ]
  },
  {
   "cell_type": "code",
   "execution_count": 260,
   "id": "4a668cc2-9f86-4017-91ee-88d0ce357aec",
   "metadata": {},
   "outputs": [],
   "source": [
    "# these are remaning columns of object where also we need to convert it in the float value ,by finding the unique value from alll columns"
   ]
  },
  {
   "cell_type": "code",
   "execution_count": 261,
   "id": "84034788-b804-4d90-b348-3c6cd5ca7a52",
   "metadata": {},
   "outputs": [
    {
     "data": {
      "text/plain": [
       "Index(['Fuel_type', 'make', 'num_of_doors', 'aspiration', 'wheel_base',\n",
       "       'engine_location', 'body_style', 'engine_type', 'num_of_cylinders',\n",
       "       'fuel_system'],\n",
       "      dtype='object')"
      ]
     },
     "execution_count": 261,
     "metadata": {},
     "output_type": "execute_result"
    }
   ],
   "source": [
    "cp.select_dtypes(include='object').columns"
   ]
  },
  {
   "cell_type": "code",
   "execution_count": 262,
   "id": "1e55616f-d831-4b09-a48c-7a012604fdaf",
   "metadata": {},
   "outputs": [
    {
     "data": {
      "text/plain": [
       "array(['gas', 'diesel'], dtype=object)"
      ]
     },
     "execution_count": 262,
     "metadata": {},
     "output_type": "execute_result"
    }
   ],
   "source": [
    "cp.Fuel_type.unique()\n",
    "\n",
    "# covert the str data with float ..by replace key....use this to all  object columns..."
   ]
  },
  {
   "cell_type": "code",
   "execution_count": 263,
   "id": "cb665c03-0867-4371-bd6e-f19e39cd7a56",
   "metadata": {},
   "outputs": [],
   "source": [
    "cp.Fuel_type=cp.Fuel_type.replace({'gas':0,'diesel':1})\n",
    "cp.make=cp.make.replace({'std':0,'turbo':1})\n",
    "cp.num_of_doors=cp.num_of_doors.replace({'four':4,'two':2})\n",
    "cp.aspiration=cp.aspiration.replace({'sedan':0,'hatchback':1,'wagon':2,'hardtop':3,'convertible':4})\n",
    "cp.wheel_base=cp.wheel_base.replace({'fwd':0,'rwd':1,'4wd':2})\n",
    "cp.engine_location=cp.engine_location.replace({'front':0,'rear':1})\n",
    "cp.body_style=cp.body_style.replace({'toyota':0,'nissan':1,'mazda':2,'mitsubishi':3,'honda':4,'subaru':5,'volkswagen':6,'volvo':7,'peugot':8,'dodge':9,'mercedes-benz':10,'bmw':11,'audi':12,'plymouth':13,'saab':14,'porsche':15,'isuzu':16,'alfa-romero':17,'chevrolet':18,'jaguar':19,'renault':20,'mercury':21})\n",
    "cp.engine_type=cp.engine_type.replace({'ohc':0,'ohcf':1,'ohcv':2,'dohc':3,'l':4,'rotor':5,'dohcv':6})\n",
    "cp.num_of_cylinders=cp.num_of_cylinders.replace({'four':4,'six':6,'five':5,'eight':8,'two':2,'twelve':12,'three':3})\n",
    "cp.fuel_system=cp.fuel_system.replace({'mpfi':0,'2bbl':1,'idi':2,'1bbl':3,'spdi':4,'4bbl':5,'mfi':6,'spfi':7})"
   ]
  },
  {
   "cell_type": "code",
   "execution_count": 264,
   "id": "b0c89aac-9191-406b-aa8c-0917a0bc59ef",
   "metadata": {},
   "outputs": [
    {
     "data": {
      "text/plain": [
       "Series([], dtype: int64)"
      ]
     },
     "execution_count": 264,
     "metadata": {},
     "output_type": "execute_result"
    }
   ],
   "source": [
    "cp.isnull().sum()[cp.isnull().sum()>0]\n",
    "\n",
    "# make shure that all data is null freee..."
   ]
  },
  {
   "cell_type": "code",
   "execution_count": 265,
   "id": "c400a0b7-dc40-4e7a-a1f3-f468eee7ad92",
   "metadata": {},
   "outputs": [
    {
     "name": "stdout",
     "output_type": "stream",
     "text": [
      "<class 'pandas.core.frame.DataFrame'>\n",
      "RangeIndex: 205 entries, 0 to 204\n",
      "Data columns (total 26 columns):\n",
      " #   Column             Non-Null Count  Dtype  \n",
      "---  ------             --------------  -----  \n",
      " 0   symboling          205 non-null    int64  \n",
      " 1   normalized_losses  205 non-null    float64\n",
      " 2   Fuel_type          205 non-null    int64  \n",
      " 3   make               205 non-null    int64  \n",
      " 4   num_of_doors       205 non-null    int64  \n",
      " 5   aspiration         205 non-null    int64  \n",
      " 6   wheel_base         205 non-null    int64  \n",
      " 7   engine_location    205 non-null    int64  \n",
      " 8   drive_wheels       205 non-null    float64\n",
      " 9   body_style         205 non-null    int64  \n",
      " 10  length             205 non-null    float64\n",
      " 11  width              205 non-null    float64\n",
      " 12  height             205 non-null    float64\n",
      " 13  curb_weight        205 non-null    int64  \n",
      " 14  engine_type        205 non-null    int64  \n",
      " 15  num_of_cylinders   205 non-null    int64  \n",
      " 16  engine_size        205 non-null    int64  \n",
      " 17  fuel_system        205 non-null    int64  \n",
      " 18  bore               205 non-null    float64\n",
      " 19  stroke             205 non-null    float64\n",
      " 20  compression_ratio  205 non-null    float64\n",
      " 21  horsepower         205 non-null    float64\n",
      " 22  peak_rpm           205 non-null    float64\n",
      " 23  city_mpg           205 non-null    int64  \n",
      " 24  highway_mpg        205 non-null    int64  \n",
      " 25  price              205 non-null    float64\n",
      "dtypes: float64(11), int64(15)\n",
      "memory usage: 41.8 KB\n"
     ]
    }
   ],
   "source": [
    "cp.info()\n",
    "\n",
    "# info the data  that shure the there is no any object columns ....\n",
    "# if there is any object columns ..then also convert it in int/float..."
   ]
  },
  {
   "cell_type": "code",
   "execution_count": null,
   "id": "d3e5b938-fee5-492c-80fa-25955c80bc9a",
   "metadata": {},
   "outputs": [],
   "source": []
  },
  {
   "cell_type": "code",
   "execution_count": 266,
   "id": "93f50518-d479-44b3-a9dc-9a5bb34619c3",
   "metadata": {},
   "outputs": [],
   "source": [
    "cp=df1"
   ]
  },
  {
   "cell_type": "code",
   "execution_count": 267,
   "id": "9eb2e078-1c79-4580-a865-f6d112f989f1",
   "metadata": {},
   "outputs": [],
   "source": [
    "from sklearn.model_selection import train_test_split\n",
    "cp_train, cp_test = train_test_split(cp,test_size=.2)\n",
    "\n",
    "\n",
    "# trin and test method give us the data in two parts 1 st is the train which contain appprox 80 % data \n",
    "# where test contain  only 20 % data ..."
   ]
  },
  {
   "cell_type": "code",
   "execution_count": 268,
   "id": "766e9fc8-3c4c-4077-a6f8-2252e9d089d3",
   "metadata": {},
   "outputs": [],
   "source": [
    "# [:,:] rows and columns\n",
    "#cp_train_x=cp_train.iloc[:,0:-1]\n",
    "cp_train_x=cp_train.iloc[:,0:25] # all columns but last column is not include\n",
    "cp_train_y=cp_train.iloc[:,-1]  # only chose the last column\n",
    "\n",
    "# cp_test_x = cp_test.iloc[:,0:-1]\n",
    "cp_test_x = cp_test.iloc[:,0:25]# same here also\n",
    "cp_test_y = cp_test.iloc[:,-1]"
   ]
  },
  {
   "cell_type": "code",
   "execution_count": 269,
   "id": "1ad1bcf9-f570-428b-90b5-9895945f4d38",
   "metadata": {},
   "outputs": [],
   "source": [
    "# on cp_train_x we use iloc which give me only specific columans and row (we chose all row and only one column)\n",
    "# train where we train the data \n",
    "# test where we test the data ..."
   ]
  },
  {
   "cell_type": "code",
   "execution_count": 270,
   "id": "f31312c1-bb25-486a-a45a-6575e06ffd92",
   "metadata": {},
   "outputs": [
    {
     "data": {
      "text/html": [
       "<style>#sk-container-id-7 {\n",
       "  /* Definition of color scheme common for light and dark mode */\n",
       "  --sklearn-color-text: black;\n",
       "  --sklearn-color-line: gray;\n",
       "  /* Definition of color scheme for unfitted estimators */\n",
       "  --sklearn-color-unfitted-level-0: #fff5e6;\n",
       "  --sklearn-color-unfitted-level-1: #f6e4d2;\n",
       "  --sklearn-color-unfitted-level-2: #ffe0b3;\n",
       "  --sklearn-color-unfitted-level-3: chocolate;\n",
       "  /* Definition of color scheme for fitted estimators */\n",
       "  --sklearn-color-fitted-level-0: #f0f8ff;\n",
       "  --sklearn-color-fitted-level-1: #d4ebff;\n",
       "  --sklearn-color-fitted-level-2: #b3dbfd;\n",
       "  --sklearn-color-fitted-level-3: cornflowerblue;\n",
       "\n",
       "  /* Specific color for light theme */\n",
       "  --sklearn-color-text-on-default-background: var(--sg-text-color, var(--theme-code-foreground, var(--jp-content-font-color1, black)));\n",
       "  --sklearn-color-background: var(--sg-background-color, var(--theme-background, var(--jp-layout-color0, white)));\n",
       "  --sklearn-color-border-box: var(--sg-text-color, var(--theme-code-foreground, var(--jp-content-font-color1, black)));\n",
       "  --sklearn-color-icon: #696969;\n",
       "\n",
       "  @media (prefers-color-scheme: dark) {\n",
       "    /* Redefinition of color scheme for dark theme */\n",
       "    --sklearn-color-text-on-default-background: var(--sg-text-color, var(--theme-code-foreground, var(--jp-content-font-color1, white)));\n",
       "    --sklearn-color-background: var(--sg-background-color, var(--theme-background, var(--jp-layout-color0, #111)));\n",
       "    --sklearn-color-border-box: var(--sg-text-color, var(--theme-code-foreground, var(--jp-content-font-color1, white)));\n",
       "    --sklearn-color-icon: #878787;\n",
       "  }\n",
       "}\n",
       "\n",
       "#sk-container-id-7 {\n",
       "  color: var(--sklearn-color-text);\n",
       "}\n",
       "\n",
       "#sk-container-id-7 pre {\n",
       "  padding: 0;\n",
       "}\n",
       "\n",
       "#sk-container-id-7 input.sk-hidden--visually {\n",
       "  border: 0;\n",
       "  clip: rect(1px 1px 1px 1px);\n",
       "  clip: rect(1px, 1px, 1px, 1px);\n",
       "  height: 1px;\n",
       "  margin: -1px;\n",
       "  overflow: hidden;\n",
       "  padding: 0;\n",
       "  position: absolute;\n",
       "  width: 1px;\n",
       "}\n",
       "\n",
       "#sk-container-id-7 div.sk-dashed-wrapped {\n",
       "  border: 1px dashed var(--sklearn-color-line);\n",
       "  margin: 0 0.4em 0.5em 0.4em;\n",
       "  box-sizing: border-box;\n",
       "  padding-bottom: 0.4em;\n",
       "  background-color: var(--sklearn-color-background);\n",
       "}\n",
       "\n",
       "#sk-container-id-7 div.sk-container {\n",
       "  /* jupyter's `normalize.less` sets `[hidden] { display: none; }`\n",
       "     but bootstrap.min.css set `[hidden] { display: none !important; }`\n",
       "     so we also need the `!important` here to be able to override the\n",
       "     default hidden behavior on the sphinx rendered scikit-learn.org.\n",
       "     See: https://github.com/scikit-learn/scikit-learn/issues/21755 */\n",
       "  display: inline-block !important;\n",
       "  position: relative;\n",
       "}\n",
       "\n",
       "#sk-container-id-7 div.sk-text-repr-fallback {\n",
       "  display: none;\n",
       "}\n",
       "\n",
       "div.sk-parallel-item,\n",
       "div.sk-serial,\n",
       "div.sk-item {\n",
       "  /* draw centered vertical line to link estimators */\n",
       "  background-image: linear-gradient(var(--sklearn-color-text-on-default-background), var(--sklearn-color-text-on-default-background));\n",
       "  background-size: 2px 100%;\n",
       "  background-repeat: no-repeat;\n",
       "  background-position: center center;\n",
       "}\n",
       "\n",
       "/* Parallel-specific style estimator block */\n",
       "\n",
       "#sk-container-id-7 div.sk-parallel-item::after {\n",
       "  content: \"\";\n",
       "  width: 100%;\n",
       "  border-bottom: 2px solid var(--sklearn-color-text-on-default-background);\n",
       "  flex-grow: 1;\n",
       "}\n",
       "\n",
       "#sk-container-id-7 div.sk-parallel {\n",
       "  display: flex;\n",
       "  align-items: stretch;\n",
       "  justify-content: center;\n",
       "  background-color: var(--sklearn-color-background);\n",
       "  position: relative;\n",
       "}\n",
       "\n",
       "#sk-container-id-7 div.sk-parallel-item {\n",
       "  display: flex;\n",
       "  flex-direction: column;\n",
       "}\n",
       "\n",
       "#sk-container-id-7 div.sk-parallel-item:first-child::after {\n",
       "  align-self: flex-end;\n",
       "  width: 50%;\n",
       "}\n",
       "\n",
       "#sk-container-id-7 div.sk-parallel-item:last-child::after {\n",
       "  align-self: flex-start;\n",
       "  width: 50%;\n",
       "}\n",
       "\n",
       "#sk-container-id-7 div.sk-parallel-item:only-child::after {\n",
       "  width: 0;\n",
       "}\n",
       "\n",
       "/* Serial-specific style estimator block */\n",
       "\n",
       "#sk-container-id-7 div.sk-serial {\n",
       "  display: flex;\n",
       "  flex-direction: column;\n",
       "  align-items: center;\n",
       "  background-color: var(--sklearn-color-background);\n",
       "  padding-right: 1em;\n",
       "  padding-left: 1em;\n",
       "}\n",
       "\n",
       "\n",
       "/* Toggleable style: style used for estimator/Pipeline/ColumnTransformer box that is\n",
       "clickable and can be expanded/collapsed.\n",
       "- Pipeline and ColumnTransformer use this feature and define the default style\n",
       "- Estimators will overwrite some part of the style using the `sk-estimator` class\n",
       "*/\n",
       "\n",
       "/* Pipeline and ColumnTransformer style (default) */\n",
       "\n",
       "#sk-container-id-7 div.sk-toggleable {\n",
       "  /* Default theme specific background. It is overwritten whether we have a\n",
       "  specific estimator or a Pipeline/ColumnTransformer */\n",
       "  background-color: var(--sklearn-color-background);\n",
       "}\n",
       "\n",
       "/* Toggleable label */\n",
       "#sk-container-id-7 label.sk-toggleable__label {\n",
       "  cursor: pointer;\n",
       "  display: block;\n",
       "  width: 100%;\n",
       "  margin-bottom: 0;\n",
       "  padding: 0.5em;\n",
       "  box-sizing: border-box;\n",
       "  text-align: center;\n",
       "}\n",
       "\n",
       "#sk-container-id-7 label.sk-toggleable__label-arrow:before {\n",
       "  /* Arrow on the left of the label */\n",
       "  content: \"▸\";\n",
       "  float: left;\n",
       "  margin-right: 0.25em;\n",
       "  color: var(--sklearn-color-icon);\n",
       "}\n",
       "\n",
       "#sk-container-id-7 label.sk-toggleable__label-arrow:hover:before {\n",
       "  color: var(--sklearn-color-text);\n",
       "}\n",
       "\n",
       "/* Toggleable content - dropdown */\n",
       "\n",
       "#sk-container-id-7 div.sk-toggleable__content {\n",
       "  max-height: 0;\n",
       "  max-width: 0;\n",
       "  overflow: hidden;\n",
       "  text-align: left;\n",
       "  /* unfitted */\n",
       "  background-color: var(--sklearn-color-unfitted-level-0);\n",
       "}\n",
       "\n",
       "#sk-container-id-7 div.sk-toggleable__content.fitted {\n",
       "  /* fitted */\n",
       "  background-color: var(--sklearn-color-fitted-level-0);\n",
       "}\n",
       "\n",
       "#sk-container-id-7 div.sk-toggleable__content pre {\n",
       "  margin: 0.2em;\n",
       "  border-radius: 0.25em;\n",
       "  color: var(--sklearn-color-text);\n",
       "  /* unfitted */\n",
       "  background-color: var(--sklearn-color-unfitted-level-0);\n",
       "}\n",
       "\n",
       "#sk-container-id-7 div.sk-toggleable__content.fitted pre {\n",
       "  /* unfitted */\n",
       "  background-color: var(--sklearn-color-fitted-level-0);\n",
       "}\n",
       "\n",
       "#sk-container-id-7 input.sk-toggleable__control:checked~div.sk-toggleable__content {\n",
       "  /* Expand drop-down */\n",
       "  max-height: 200px;\n",
       "  max-width: 100%;\n",
       "  overflow: auto;\n",
       "}\n",
       "\n",
       "#sk-container-id-7 input.sk-toggleable__control:checked~label.sk-toggleable__label-arrow:before {\n",
       "  content: \"▾\";\n",
       "}\n",
       "\n",
       "/* Pipeline/ColumnTransformer-specific style */\n",
       "\n",
       "#sk-container-id-7 div.sk-label input.sk-toggleable__control:checked~label.sk-toggleable__label {\n",
       "  color: var(--sklearn-color-text);\n",
       "  background-color: var(--sklearn-color-unfitted-level-2);\n",
       "}\n",
       "\n",
       "#sk-container-id-7 div.sk-label.fitted input.sk-toggleable__control:checked~label.sk-toggleable__label {\n",
       "  background-color: var(--sklearn-color-fitted-level-2);\n",
       "}\n",
       "\n",
       "/* Estimator-specific style */\n",
       "\n",
       "/* Colorize estimator box */\n",
       "#sk-container-id-7 div.sk-estimator input.sk-toggleable__control:checked~label.sk-toggleable__label {\n",
       "  /* unfitted */\n",
       "  background-color: var(--sklearn-color-unfitted-level-2);\n",
       "}\n",
       "\n",
       "#sk-container-id-7 div.sk-estimator.fitted input.sk-toggleable__control:checked~label.sk-toggleable__label {\n",
       "  /* fitted */\n",
       "  background-color: var(--sklearn-color-fitted-level-2);\n",
       "}\n",
       "\n",
       "#sk-container-id-7 div.sk-label label.sk-toggleable__label,\n",
       "#sk-container-id-7 div.sk-label label {\n",
       "  /* The background is the default theme color */\n",
       "  color: var(--sklearn-color-text-on-default-background);\n",
       "}\n",
       "\n",
       "/* On hover, darken the color of the background */\n",
       "#sk-container-id-7 div.sk-label:hover label.sk-toggleable__label {\n",
       "  color: var(--sklearn-color-text);\n",
       "  background-color: var(--sklearn-color-unfitted-level-2);\n",
       "}\n",
       "\n",
       "/* Label box, darken color on hover, fitted */\n",
       "#sk-container-id-7 div.sk-label.fitted:hover label.sk-toggleable__label.fitted {\n",
       "  color: var(--sklearn-color-text);\n",
       "  background-color: var(--sklearn-color-fitted-level-2);\n",
       "}\n",
       "\n",
       "/* Estimator label */\n",
       "\n",
       "#sk-container-id-7 div.sk-label label {\n",
       "  font-family: monospace;\n",
       "  font-weight: bold;\n",
       "  display: inline-block;\n",
       "  line-height: 1.2em;\n",
       "}\n",
       "\n",
       "#sk-container-id-7 div.sk-label-container {\n",
       "  text-align: center;\n",
       "}\n",
       "\n",
       "/* Estimator-specific */\n",
       "#sk-container-id-7 div.sk-estimator {\n",
       "  font-family: monospace;\n",
       "  border: 1px dotted var(--sklearn-color-border-box);\n",
       "  border-radius: 0.25em;\n",
       "  box-sizing: border-box;\n",
       "  margin-bottom: 0.5em;\n",
       "  /* unfitted */\n",
       "  background-color: var(--sklearn-color-unfitted-level-0);\n",
       "}\n",
       "\n",
       "#sk-container-id-7 div.sk-estimator.fitted {\n",
       "  /* fitted */\n",
       "  background-color: var(--sklearn-color-fitted-level-0);\n",
       "}\n",
       "\n",
       "/* on hover */\n",
       "#sk-container-id-7 div.sk-estimator:hover {\n",
       "  /* unfitted */\n",
       "  background-color: var(--sklearn-color-unfitted-level-2);\n",
       "}\n",
       "\n",
       "#sk-container-id-7 div.sk-estimator.fitted:hover {\n",
       "  /* fitted */\n",
       "  background-color: var(--sklearn-color-fitted-level-2);\n",
       "}\n",
       "\n",
       "/* Specification for estimator info (e.g. \"i\" and \"?\") */\n",
       "\n",
       "/* Common style for \"i\" and \"?\" */\n",
       "\n",
       ".sk-estimator-doc-link,\n",
       "a:link.sk-estimator-doc-link,\n",
       "a:visited.sk-estimator-doc-link {\n",
       "  float: right;\n",
       "  font-size: smaller;\n",
       "  line-height: 1em;\n",
       "  font-family: monospace;\n",
       "  background-color: var(--sklearn-color-background);\n",
       "  border-radius: 1em;\n",
       "  height: 1em;\n",
       "  width: 1em;\n",
       "  text-decoration: none !important;\n",
       "  margin-left: 1ex;\n",
       "  /* unfitted */\n",
       "  border: var(--sklearn-color-unfitted-level-1) 1pt solid;\n",
       "  color: var(--sklearn-color-unfitted-level-1);\n",
       "}\n",
       "\n",
       ".sk-estimator-doc-link.fitted,\n",
       "a:link.sk-estimator-doc-link.fitted,\n",
       "a:visited.sk-estimator-doc-link.fitted {\n",
       "  /* fitted */\n",
       "  border: var(--sklearn-color-fitted-level-1) 1pt solid;\n",
       "  color: var(--sklearn-color-fitted-level-1);\n",
       "}\n",
       "\n",
       "/* On hover */\n",
       "div.sk-estimator:hover .sk-estimator-doc-link:hover,\n",
       ".sk-estimator-doc-link:hover,\n",
       "div.sk-label-container:hover .sk-estimator-doc-link:hover,\n",
       ".sk-estimator-doc-link:hover {\n",
       "  /* unfitted */\n",
       "  background-color: var(--sklearn-color-unfitted-level-3);\n",
       "  color: var(--sklearn-color-background);\n",
       "  text-decoration: none;\n",
       "}\n",
       "\n",
       "div.sk-estimator.fitted:hover .sk-estimator-doc-link.fitted:hover,\n",
       ".sk-estimator-doc-link.fitted:hover,\n",
       "div.sk-label-container:hover .sk-estimator-doc-link.fitted:hover,\n",
       ".sk-estimator-doc-link.fitted:hover {\n",
       "  /* fitted */\n",
       "  background-color: var(--sklearn-color-fitted-level-3);\n",
       "  color: var(--sklearn-color-background);\n",
       "  text-decoration: none;\n",
       "}\n",
       "\n",
       "/* Span, style for the box shown on hovering the info icon */\n",
       ".sk-estimator-doc-link span {\n",
       "  display: none;\n",
       "  z-index: 9999;\n",
       "  position: relative;\n",
       "  font-weight: normal;\n",
       "  right: .2ex;\n",
       "  padding: .5ex;\n",
       "  margin: .5ex;\n",
       "  width: min-content;\n",
       "  min-width: 20ex;\n",
       "  max-width: 50ex;\n",
       "  color: var(--sklearn-color-text);\n",
       "  box-shadow: 2pt 2pt 4pt #999;\n",
       "  /* unfitted */\n",
       "  background: var(--sklearn-color-unfitted-level-0);\n",
       "  border: .5pt solid var(--sklearn-color-unfitted-level-3);\n",
       "}\n",
       "\n",
       ".sk-estimator-doc-link.fitted span {\n",
       "  /* fitted */\n",
       "  background: var(--sklearn-color-fitted-level-0);\n",
       "  border: var(--sklearn-color-fitted-level-3);\n",
       "}\n",
       "\n",
       ".sk-estimator-doc-link:hover span {\n",
       "  display: block;\n",
       "}\n",
       "\n",
       "/* \"?\"-specific style due to the `<a>` HTML tag */\n",
       "\n",
       "#sk-container-id-7 a.estimator_doc_link {\n",
       "  float: right;\n",
       "  font-size: 1rem;\n",
       "  line-height: 1em;\n",
       "  font-family: monospace;\n",
       "  background-color: var(--sklearn-color-background);\n",
       "  border-radius: 1rem;\n",
       "  height: 1rem;\n",
       "  width: 1rem;\n",
       "  text-decoration: none;\n",
       "  /* unfitted */\n",
       "  color: var(--sklearn-color-unfitted-level-1);\n",
       "  border: var(--sklearn-color-unfitted-level-1) 1pt solid;\n",
       "}\n",
       "\n",
       "#sk-container-id-7 a.estimator_doc_link.fitted {\n",
       "  /* fitted */\n",
       "  border: var(--sklearn-color-fitted-level-1) 1pt solid;\n",
       "  color: var(--sklearn-color-fitted-level-1);\n",
       "}\n",
       "\n",
       "/* On hover */\n",
       "#sk-container-id-7 a.estimator_doc_link:hover {\n",
       "  /* unfitted */\n",
       "  background-color: var(--sklearn-color-unfitted-level-3);\n",
       "  color: var(--sklearn-color-background);\n",
       "  text-decoration: none;\n",
       "}\n",
       "\n",
       "#sk-container-id-7 a.estimator_doc_link.fitted:hover {\n",
       "  /* fitted */\n",
       "  background-color: var(--sklearn-color-fitted-level-3);\n",
       "}\n",
       "</style><div id=\"sk-container-id-7\" class=\"sk-top-container\"><div class=\"sk-text-repr-fallback\"><pre>LinearRegression()</pre><b>In a Jupyter environment, please rerun this cell to show the HTML representation or trust the notebook. <br />On GitHub, the HTML representation is unable to render, please try loading this page with nbviewer.org.</b></div><div class=\"sk-container\" hidden><div class=\"sk-item\"><div class=\"sk-estimator fitted sk-toggleable\"><input class=\"sk-toggleable__control sk-hidden--visually\" id=\"sk-estimator-id-7\" type=\"checkbox\" checked><label for=\"sk-estimator-id-7\" class=\"sk-toggleable__label fitted sk-toggleable__label-arrow fitted\">&nbsp;&nbsp;LinearRegression<a class=\"sk-estimator-doc-link fitted\" rel=\"noreferrer\" target=\"_blank\" href=\"https://scikit-learn.org/1.4/modules/generated/sklearn.linear_model.LinearRegression.html\">?<span>Documentation for LinearRegression</span></a><span class=\"sk-estimator-doc-link fitted\">i<span>Fitted</span></span></label><div class=\"sk-toggleable__content fitted\"><pre>LinearRegression()</pre></div> </div></div></div></div>"
      ],
      "text/plain": [
       "LinearRegression()"
      ]
     },
     "execution_count": 270,
     "metadata": {},
     "output_type": "execute_result"
    }
   ],
   "source": [
    "from sklearn.linear_model import LinearRegression\n",
    "lr = LinearRegression()  # store in lr\n",
    "lr.fit(cp_train_x,cp_train_y)   # build the model .."
   ]
  },
  {
   "cell_type": "code",
   "execution_count": 271,
   "id": "443031c6-f8bd-4110-92ad-4256ddaddd23",
   "metadata": {},
   "outputs": [
    {
     "data": {
      "text/plain": [
       "0.8000085248939872"
      ]
     },
     "execution_count": 271,
     "metadata": {},
     "output_type": "execute_result"
    }
   ],
   "source": [
    "# we find here r square ..\n",
    "\n",
    "rsq = lr.score(cp_train_x,cp_train_y) \n",
    "rsq"
   ]
  },
  {
   "cell_type": "code",
   "execution_count": 272,
   "id": "9b26262a-3ccf-4462-92ac-cc3fc704e5f8",
   "metadata": {},
   "outputs": [
    {
     "data": {
      "text/plain": [
       "0.7572753037174887"
      ]
     },
     "execution_count": 272,
     "metadata": {},
     "output_type": "execute_result"
    }
   ],
   "source": [
    "N = cp_train_x.shape[0]\n",
    "K = cp_train_x.shape[1]\n",
    "\n",
    "\n",
    "Adj_Rsq= 1- (1-rsq) * (N-1) / (N-K-1)\n",
    "Adj_Rsq\n",
    "\n",
    "\n",
    "# adjusted rsquare .."
   ]
  },
  {
   "cell_type": "code",
   "execution_count": 273,
   "id": "72a1fe66-eb4c-4203-b091-78a9dfac24f0",
   "metadata": {},
   "outputs": [
    {
     "data": {
      "text/plain": [
       "-4555.075575092473"
      ]
     },
     "execution_count": 273,
     "metadata": {},
     "output_type": "execute_result"
    }
   ],
   "source": [
    "lr.intercept_\n"
   ]
  },
  {
   "cell_type": "code",
   "execution_count": 274,
   "id": "2a257182-0abb-4c43-a092-49c131a9681e",
   "metadata": {},
   "outputs": [
    {
     "data": {
      "text/plain": [
       "array([13866.61072075,  7432.32446959, 17430.27042326, 14847.06104576,\n",
       "        6274.37926374,  7763.20719488, 10914.02825164,  6787.86146652,\n",
       "       13344.25863434,  8485.14707685, 10249.19873168,  8149.13129041,\n",
       "       13263.93899313, 11295.80656004, 10476.12181647,  8598.66950285,\n",
       "       17215.34449264, 11640.73879409,  6800.82324758,  9345.16164617,\n",
       "        9776.25431715, 14343.16000951, 15517.48425813, 15673.7493174 ,\n",
       "       11144.08277125, 13857.12880871, 13251.77667082, 13710.55755181,\n",
       "        7424.45799929,  6341.44376578,  7918.11867463,  9845.67989123,\n",
       "        8003.39711451, 11588.24881335, 11515.39974184,  9270.80707126,\n",
       "       14469.26956441, 16440.62803545,  5542.66424011,  8084.19450075,\n",
       "        8986.22697801, 10845.93886314,  8671.47886858, 12401.60031559,\n",
       "        7820.83341973,  8192.51588702, 15827.94701914,  7946.80000735,\n",
       "       15426.70902855, 13211.52346193, 11564.20110582, 12191.44934246,\n",
       "       16924.76175571, 18103.00141873, 13855.67039486,  6549.89683604,\n",
       "        5518.61653258,  6890.11135179, 10570.05132623, 10148.47529326,\n",
       "       14835.44250513,  3597.97668461,  6136.51914324, 16180.80960965,\n",
       "       10245.29363632, 11302.1886202 ,  8956.92746096,  5335.10153064,\n",
       "        9636.60494432,  5919.77668181,  7957.90315453, 11395.23572112,\n",
       "       16445.33439253, 16533.22795027,  9665.60309601, 13819.97001258,\n",
       "       13554.12769377, 13542.06041088,  7595.70797818, 10132.89001414,\n",
       "       18324.80260128,  8051.7796853 ,  8444.94663759,  8256.14598349,\n",
       "        6554.79397224,  9937.11917133, 13463.9936569 , 14679.67076453,\n",
       "       15545.44070526,  7992.67230948, 14495.8366784 ,  8416.04782823,\n",
       "        7784.59285592,  7153.34775218, 16353.44965439,  7488.60377082,\n",
       "        7637.35999544, 10548.64210561, 11564.20110582,  9452.17592354,\n",
       "        8463.77053663, 14859.15902011, 10161.91659702, 10453.88080129,\n",
       "       11798.12286878,  6626.50525807, 10640.16429688,  7258.06998299,\n",
       "        6732.05418379,  9941.78781019,  6846.43808117, 10242.26097499,\n",
       "       13000.01281807, 12382.36214956, 15677.9102922 ,  6499.88160345,\n",
       "       10847.99846626, 15935.61253865, 10015.32263401,  9633.2682159 ,\n",
       "       16820.98925438,  3012.51091752, 14740.42177369,  9941.78781019,\n",
       "        7231.88315995, 14720.9009426 ,  5909.8173712 , 12608.1287951 ,\n",
       "       11196.38069554,  9563.83456441,  6562.40564304, 10052.49968   ,\n",
       "       10005.54203519, 15437.03823145, 18123.61296933,  7080.73653143,\n",
       "       10148.68100616,  6467.574343  , 11255.8007936 ,  7209.66229139,\n",
       "        6126.97924852, 13879.71810239, 10629.26242472])"
      ]
     },
     "execution_count": 274,
     "metadata": {},
     "output_type": "execute_result"
    }
   ],
   "source": [
    "pred_train = lr.predict(cp_train_x)\n",
    "pred_train"
   ]
  },
  {
   "cell_type": "code",
   "execution_count": 275,
   "id": "bef68a99-f6ee-40e9-a588-262111a5f71e",
   "metadata": {},
   "outputs": [
    {
     "data": {
      "text/plain": [
       "array([13392.08406074,  9452.17592354,  8455.29772668, 10377.66966595,\n",
       "        6333.80747725, 14302.60717816,  6122.90939124, 15701.56301434,\n",
       "       16556.98561751,  7116.44407031, 14276.86549224,  7267.75839327,\n",
       "        6731.39648206,  8598.66950285, 16177.79344174, 12202.4845433 ,\n",
       "        9561.09979797, 10371.87280369,  8820.96683326,  5751.10250147,\n",
       "       16445.33439253, 17552.90468758,  7937.61018715, 10503.7860601 ,\n",
       "        5611.62579777, 15150.75685688, 17859.08818645,  7147.13729729,\n",
       "       11242.02470923, 13070.12658506, 17197.8153099 , 10552.12787465,\n",
       "        7154.93049584,  9744.27336213, 11640.73879409, 16194.66614   ])"
      ]
     },
     "execution_count": 275,
     "metadata": {},
     "output_type": "execute_result"
    }
   ],
   "source": [
    "pred_test = lr.predict(cp_test_x)\n",
    "pred_test"
   ]
  },
  {
   "cell_type": "code",
   "execution_count": 276,
   "id": "e4e1c993-b436-451e-9806-be78b19297f5",
   "metadata": {
    "scrolled": true
   },
   "outputs": [
    {
     "data": {
      "text/html": [
       "<div>\n",
       "<style scoped>\n",
       "    .dataframe tbody tr th:only-of-type {\n",
       "        vertical-align: middle;\n",
       "    }\n",
       "\n",
       "    .dataframe tbody tr th {\n",
       "        vertical-align: top;\n",
       "    }\n",
       "\n",
       "    .dataframe thead th {\n",
       "        text-align: right;\n",
       "    }\n",
       "</style>\n",
       "<table border=\"1\" class=\"dataframe\">\n",
       "  <thead>\n",
       "    <tr style=\"text-align: right;\">\n",
       "      <th></th>\n",
       "      <th>Actual</th>\n",
       "      <th>Pred</th>\n",
       "    </tr>\n",
       "  </thead>\n",
       "  <tbody>\n",
       "    <tr>\n",
       "      <th>171</th>\n",
       "      <td>11549.000000</td>\n",
       "      <td>13392.084061</td>\n",
       "    </tr>\n",
       "    <tr>\n",
       "      <th>59</th>\n",
       "      <td>8845.000000</td>\n",
       "      <td>9452.175924</td>\n",
       "    </tr>\n",
       "    <tr>\n",
       "      <th>40</th>\n",
       "      <td>10295.000000</td>\n",
       "      <td>8455.297727</td>\n",
       "    </tr>\n",
       "    <tr>\n",
       "      <th>85</th>\n",
       "      <td>6989.000000</td>\n",
       "      <td>10377.669666</td>\n",
       "    </tr>\n",
       "    <tr>\n",
       "      <th>54</th>\n",
       "      <td>7395.000000</td>\n",
       "      <td>6333.807477</td>\n",
       "    </tr>\n",
       "    <tr>\n",
       "      <th>103</th>\n",
       "      <td>13499.000000</td>\n",
       "      <td>14302.607178</td>\n",
       "    </tr>\n",
       "    <tr>\n",
       "      <th>150</th>\n",
       "      <td>5348.000000</td>\n",
       "      <td>6122.909391</td>\n",
       "    </tr>\n",
       "    <tr>\n",
       "      <th>115</th>\n",
       "      <td>16630.000000</td>\n",
       "      <td>15701.563014</td>\n",
       "    </tr>\n",
       "    <tr>\n",
       "      <th>199</th>\n",
       "      <td>18950.000000</td>\n",
       "      <td>16556.985618</td>\n",
       "    </tr>\n",
       "    <tr>\n",
       "      <th>118</th>\n",
       "      <td>5572.000000</td>\n",
       "      <td>7116.444070</td>\n",
       "    </tr>\n",
       "    <tr>\n",
       "      <th>136</th>\n",
       "      <td>18150.000000</td>\n",
       "      <td>14276.865492</td>\n",
       "    </tr>\n",
       "    <tr>\n",
       "      <th>98</th>\n",
       "      <td>8249.000000</td>\n",
       "      <td>7267.758393</td>\n",
       "    </tr>\n",
       "    <tr>\n",
       "      <th>92</th>\n",
       "      <td>6849.000000</td>\n",
       "      <td>6731.396482</td>\n",
       "    </tr>\n",
       "    <tr>\n",
       "      <th>25</th>\n",
       "      <td>6692.000000</td>\n",
       "      <td>8598.669503</td>\n",
       "    </tr>\n",
       "    <tr>\n",
       "      <th>200</th>\n",
       "      <td>16845.000000</td>\n",
       "      <td>16177.793442</td>\n",
       "    </tr>\n",
       "    <tr>\n",
       "      <th>190</th>\n",
       "      <td>9980.000000</td>\n",
       "      <td>12202.484543</td>\n",
       "    </tr>\n",
       "    <tr>\n",
       "      <th>184</th>\n",
       "      <td>7995.000000</td>\n",
       "      <td>9561.099798</td>\n",
       "    </tr>\n",
       "    <tr>\n",
       "      <th>81</th>\n",
       "      <td>8499.000000</td>\n",
       "      <td>10371.872804</td>\n",
       "    </tr>\n",
       "    <tr>\n",
       "      <th>23</th>\n",
       "      <td>7957.000000</td>\n",
       "      <td>8820.966833</td>\n",
       "    </tr>\n",
       "    <tr>\n",
       "      <th>91</th>\n",
       "      <td>6649.000000</td>\n",
       "      <td>5751.102501</td>\n",
       "    </tr>\n",
       "    <tr>\n",
       "      <th>112</th>\n",
       "      <td>16900.000000</td>\n",
       "      <td>16445.334393</td>\n",
       "    </tr>\n",
       "    <tr>\n",
       "      <th>201</th>\n",
       "      <td>19045.000000</td>\n",
       "      <td>17552.904688</td>\n",
       "    </tr>\n",
       "    <tr>\n",
       "      <th>37</th>\n",
       "      <td>7895.000000</td>\n",
       "      <td>7937.610187</td>\n",
       "    </tr>\n",
       "    <tr>\n",
       "      <th>174</th>\n",
       "      <td>10698.000000</td>\n",
       "      <td>10503.786060</td>\n",
       "    </tr>\n",
       "    <tr>\n",
       "      <th>89</th>\n",
       "      <td>5499.000000</td>\n",
       "      <td>5611.625798</td>\n",
       "    </tr>\n",
       "    <tr>\n",
       "      <th>101</th>\n",
       "      <td>13499.000000</td>\n",
       "      <td>15150.756857</td>\n",
       "    </tr>\n",
       "    <tr>\n",
       "      <th>110</th>\n",
       "      <td>13860.000000</td>\n",
       "      <td>17859.088186</td>\n",
       "    </tr>\n",
       "    <tr>\n",
       "      <th>44</th>\n",
       "      <td>13207.129353</td>\n",
       "      <td>7147.137297</td>\n",
       "    </tr>\n",
       "    <tr>\n",
       "      <th>28</th>\n",
       "      <td>8921.000000</td>\n",
       "      <td>11242.024709</td>\n",
       "    </tr>\n",
       "    <tr>\n",
       "      <th>170</th>\n",
       "      <td>11199.000000</td>\n",
       "      <td>13070.126585</td>\n",
       "    </tr>\n",
       "    <tr>\n",
       "      <th>111</th>\n",
       "      <td>15580.000000</td>\n",
       "      <td>17197.815310</td>\n",
       "    </tr>\n",
       "    <tr>\n",
       "      <th>145</th>\n",
       "      <td>11259.000000</td>\n",
       "      <td>10552.127875</td>\n",
       "    </tr>\n",
       "    <tr>\n",
       "      <th>33</th>\n",
       "      <td>6529.000000</td>\n",
       "      <td>7154.930496</td>\n",
       "    </tr>\n",
       "    <tr>\n",
       "      <th>173</th>\n",
       "      <td>8948.000000</td>\n",
       "      <td>9744.273362</td>\n",
       "    </tr>\n",
       "    <tr>\n",
       "      <th>0</th>\n",
       "      <td>13495.000000</td>\n",
       "      <td>11640.738794</td>\n",
       "    </tr>\n",
       "    <tr>\n",
       "      <th>109</th>\n",
       "      <td>12440.000000</td>\n",
       "      <td>16194.666140</td>\n",
       "    </tr>\n",
       "  </tbody>\n",
       "</table>\n",
       "</div>"
      ],
      "text/plain": [
       "           Actual          Pred\n",
       "171  11549.000000  13392.084061\n",
       "59    8845.000000   9452.175924\n",
       "40   10295.000000   8455.297727\n",
       "85    6989.000000  10377.669666\n",
       "54    7395.000000   6333.807477\n",
       "103  13499.000000  14302.607178\n",
       "150   5348.000000   6122.909391\n",
       "115  16630.000000  15701.563014\n",
       "199  18950.000000  16556.985618\n",
       "118   5572.000000   7116.444070\n",
       "136  18150.000000  14276.865492\n",
       "98    8249.000000   7267.758393\n",
       "92    6849.000000   6731.396482\n",
       "25    6692.000000   8598.669503\n",
       "200  16845.000000  16177.793442\n",
       "190   9980.000000  12202.484543\n",
       "184   7995.000000   9561.099798\n",
       "81    8499.000000  10371.872804\n",
       "23    7957.000000   8820.966833\n",
       "91    6649.000000   5751.102501\n",
       "112  16900.000000  16445.334393\n",
       "201  19045.000000  17552.904688\n",
       "37    7895.000000   7937.610187\n",
       "174  10698.000000  10503.786060\n",
       "89    5499.000000   5611.625798\n",
       "101  13499.000000  15150.756857\n",
       "110  13860.000000  17859.088186\n",
       "44   13207.129353   7147.137297\n",
       "28    8921.000000  11242.024709\n",
       "170  11199.000000  13070.126585\n",
       "111  15580.000000  17197.815310\n",
       "145  11259.000000  10552.127875\n",
       "33    6529.000000   7154.930496\n",
       "173   8948.000000   9744.273362\n",
       "0    13495.000000  11640.738794\n",
       "109  12440.000000  16194.666140"
      ]
     },
     "execution_count": 276,
     "metadata": {},
     "output_type": "execute_result"
    }
   ],
   "source": [
    "actual_pred=pd.DataFrame()\n",
    "actual_pred['Actual'] = cp_test_y\n",
    "actual_pred['Pred'] = pred_test\n",
    "actual_pred"
   ]
  },
  {
   "cell_type": "code",
   "execution_count": 277,
   "id": "405f4d3e-4e35-4e08-9711-e6c2914c3bd2",
   "metadata": {},
   "outputs": [
    {
     "data": {
      "text/plain": [
       "171   -1843.084061\n",
       "59     -607.175924\n",
       "40     1839.702273\n",
       "85    -3388.669666\n",
       "54     1061.192523\n",
       "103    -803.607178\n",
       "150    -774.909391\n",
       "115     928.436986\n",
       "199    2393.014382\n",
       "118   -1544.444070\n",
       "136    3873.134508\n",
       "98      981.241607\n",
       "92      117.603518\n",
       "25    -1906.669503\n",
       "200     667.206558\n",
       "190   -2222.484543\n",
       "184   -1566.099798\n",
       "81    -1872.872804\n",
       "23     -863.966833\n",
       "91      897.897499\n",
       "112     454.665607\n",
       "201    1492.095312\n",
       "37      -42.610187\n",
       "174     194.213940\n",
       "89     -112.625798\n",
       "101   -1651.756857\n",
       "110   -3999.088186\n",
       "44     6059.992056\n",
       "28    -2321.024709\n",
       "170   -1871.126585\n",
       "111   -1617.815310\n",
       "145     706.872125\n",
       "33     -625.930496\n",
       "173    -796.273362\n",
       "0      1854.261206\n",
       "109   -3754.666140\n",
       "dtype: float64"
      ]
     },
     "execution_count": 277,
     "metadata": {},
     "output_type": "execute_result"
    }
   ],
   "source": [
    "err_test = actual_pred['Actual'] - actual_pred['Pred']\n",
    "err_test"
   ]
  },
  {
   "cell_type": "code",
   "execution_count": 278,
   "id": "fdde4376-4358-4908-b6a8-dac71d4975d5",
   "metadata": {},
   "outputs": [],
   "source": [
    "from sklearn.metrics import mean_squared_error, mean_absolute_percentage_error, mean_absolute_error, root_mean_squared_error\n"
   ]
  },
  {
   "cell_type": "code",
   "execution_count": 220,
   "id": "d84a9818-0423-4ea1-9891-6d8fd0f558f7",
   "metadata": {},
   "outputs": [
    {
     "data": {
      "text/plain": [
       "1815.884316753755"
      ]
     },
     "execution_count": 220,
     "metadata": {},
     "output_type": "execute_result"
    }
   ],
   "source": [
    "mean_absolute_error(actual_pred['Actual'], actual_pred['Pred'])\n"
   ]
  },
  {
   "cell_type": "code",
   "execution_count": 221,
   "id": "2db37659-79f3-41a8-a79a-7ee5468f5ec9",
   "metadata": {},
   "outputs": [
    {
     "data": {
      "text/plain": [
       "0.19722048599311526"
      ]
     },
     "execution_count": 221,
     "metadata": {},
     "output_type": "execute_result"
    }
   ],
   "source": [
    "mean_absolute_percentage_error(actual_pred['Actual'], actual_pred['Pred'])\n"
   ]
  },
  {
   "cell_type": "code",
   "execution_count": 222,
   "id": "2f4b4b9c-1c90-4b5b-905b-9e47b0c6ba63",
   "metadata": {},
   "outputs": [
    {
     "data": {
      "text/plain": [
       "5783353.000181452"
      ]
     },
     "execution_count": 222,
     "metadata": {},
     "output_type": "execute_result"
    }
   ],
   "source": [
    "mean_squared_error(actual_pred['Actual'], actual_pred['Pred'])\n"
   ]
  },
  {
   "cell_type": "code",
   "execution_count": 223,
   "id": "208177b2-44f0-40b7-8e4d-3abd9663433f",
   "metadata": {},
   "outputs": [
    {
     "data": {
      "text/plain": [
       "2404.860287039863"
      ]
     },
     "execution_count": 223,
     "metadata": {},
     "output_type": "execute_result"
    }
   ],
   "source": [
    "root_mean_squared_error(actual_pred['Actual'], actual_pred['Pred'])\n"
   ]
  },
  {
   "cell_type": "code",
   "execution_count": 224,
   "id": "c5417620-f876-434b-ad30-d07befd9df50",
   "metadata": {},
   "outputs": [
    {
     "data": {
      "text/plain": [
       "168   -3585.380956\n",
       "39      615.226529\n",
       "166    -766.082141\n",
       "187    -124.139116\n",
       "65     2492.621997\n",
       "          ...     \n",
       "158   -1075.620129\n",
       "137    2998.041977\n",
       "32      604.627358\n",
       "139    -168.063765\n",
       "136    2389.791907\n",
       "Name: price, Length: 145, dtype: float64"
      ]
     },
     "execution_count": 224,
     "metadata": {},
     "output_type": "execute_result"
    }
   ],
   "source": [
    "err_train = cp_train_y - pred_train\n",
    "err_train"
   ]
  },
  {
   "cell_type": "code",
   "execution_count": 225,
   "id": "1a6ec90f-3f33-4243-918f-4e8b7e3f4ae1",
   "metadata": {},
   "outputs": [
    {
     "data": {
      "text/plain": [
       "-4.277761286959566e-12"
      ]
     },
     "execution_count": 225,
     "metadata": {},
     "output_type": "execute_result"
    }
   ],
   "source": [
    "err_train.mean()\n"
   ]
  },
  {
   "cell_type": "code",
   "execution_count": 226,
   "id": "63753e64-6c17-41ad-8843-1f03575658d4",
   "metadata": {},
   "outputs": [
    {
     "data": {
      "text/plain": [
       "0.3003542382956708"
      ]
     },
     "execution_count": 226,
     "metadata": {},
     "output_type": "execute_result"
    }
   ],
   "source": [
    "err_train.skew()\n"
   ]
  },
  {
   "cell_type": "code",
   "execution_count": 227,
   "id": "1aaa31b7-c8c6-47e6-9ef1-cea5cefd6f8e",
   "metadata": {},
   "outputs": [
    {
     "data": {
      "text/plain": [
       "3.0218993767167617"
      ]
     },
     "execution_count": 227,
     "metadata": {},
     "output_type": "execute_result"
    }
   ],
   "source": [
    "err_train.kurtosis() + 3\n"
   ]
  },
  {
   "cell_type": "code",
   "execution_count": null,
   "id": "152a8fa3-f888-4df0-94d3-6a80a4bda3d0",
   "metadata": {},
   "outputs": [],
   "source": []
  },
  {
   "cell_type": "code",
   "execution_count": 228,
   "id": "e099c7cd-c22e-49e2-9cf0-2b10b16227de",
   "metadata": {},
   "outputs": [],
   "source": [
    "import matplotlib.pyplot as plt\n",
    "import seaborn as sns"
   ]
  },
  {
   "cell_type": "code",
   "execution_count": 229,
   "id": "5d621316-695c-4e6b-9673-48fc98ca57f3",
   "metadata": {},
   "outputs": [
    {
     "data": {
      "image/png": "[encoded data removed]",
      "text/plain": [
       "<Figure size 640x480 with 1 Axes>"
      ]
     },
     "metadata": {},
     "output_type": "display_data"
    }
   ],
   "source": [
    "plt.hist(err_train, bins=30, edgecolor='red');\n"
   ]
  },
  {
   "cell_type": "code",
   "execution_count": 230,
   "id": "87de5fd0-8694-447b-ae81-1c04fbea1012",
   "metadata": {},
   "outputs": [
    {
     "data": {
      "text/plain": [
       "<matplotlib.lines.Line2D at 0x2288c7dc470>"
      ]
     },
     "execution_count": 230,
     "metadata": {},
     "output_type": "execute_result"
    },
    {
     "data": {
      "image/png": "[encoded data removed]",
      "text/plain": [
       "<Figure size 640x480 with 1 Axes>"
      ]
     },
     "metadata": {},
     "output_type": "display_data"
    }
   ],
   "source": [
    "plt.plot(err_train,'*')\n",
    "plt.axhline(y=0, color='red')\n",
    "plt.axhline(y=3, color='red')\n",
    "plt.axhline(y=-3, color='red')"
   ]
  },
  {
   "cell_type": "code",
   "execution_count": 231,
   "id": "5fe459e0-8c24-40b7-891f-a90a3c273569",
   "metadata": {},
   "outputs": [
    {
     "data": {
      "text/plain": [
       "<Axes: ylabel='price'>"
      ]
     },
     "execution_count": 231,
     "metadata": {},
     "output_type": "execute_result"
    },
    {
     "data": {
      "image/png": "[encoded data removed]",
      "text/plain": [
       "<Figure size 640x480 with 1 Axes>"
      ]
     },
     "metadata": {},
     "output_type": "display_data"
    }
   ],
   "source": [
    "sns.boxplot(err_train)\n"
   ]
  },
  {
   "cell_type": "code",
   "execution_count": 232,
   "id": "c1647570-8b92-4e2f-8680-209a5d74418c",
   "metadata": {},
   "outputs": [],
   "source": [
    "actual_pred_train = pd.DataFrame()\n",
    "actual_pred_train['Actual'] = cp_train_y\n",
    "actual_pred_train['Pred'] = pred_train"
   ]
  },
  {
   "cell_type": "code",
   "execution_count": 233,
   "id": "0d3ddc92-5f79-4250-821d-b036a118a0fe",
   "metadata": {},
   "outputs": [
    {
     "data": {
      "text/plain": [
       "<Axes: xlabel='Actual', ylabel='Pred'>"
      ]
     },
     "execution_count": 233,
     "metadata": {},
     "output_type": "execute_result"
    },
    {
     "data": {
      "image/png": "[encoded data removed]",
      "text/plain": [
       "<Figure size 640x480 with 1 Axes>"
      ]
     },
     "metadata": {},
     "output_type": "display_data"
    }
   ],
   "source": [
    "sns.regplot(x='Actual', y='Pred', data=actual_pred_train)\n"
   ]
  },
  {
   "cell_type": "code",
   "execution_count": 234,
   "id": "797a5591-83da-4fd1-b93a-1e20f2120de4",
   "metadata": {},
   "outputs": [],
   "source": [
    "# sse to find msc  ,,,, error ,square , mean...."
   ]
  },
  {
   "cell_type": "code",
   "execution_count": 235,
   "id": "2f6d20b7-2ff9-49f0-8b26-1d09c6a40dc0",
   "metadata": {},
   "outputs": [
    {
     "name": "stdout",
     "output_type": "stream",
     "text": [
      "MSE train is 3420621.192997708\n",
      "MSE test is 5783353.000181452\n"
     ]
    }
   ],
   "source": [
    "mse_train_cp = np.mean(np.square(err_train))\n",
    "mse_test_cp = np.mean(np.square(err_test))\n",
    "print('MSE train is', mse_train_cp)\n",
    "print('MSE test is', mse_test_cp)"
   ]
  },
  {
   "cell_type": "code",
   "execution_count": 236,
   "id": "65c22e00-9c28-4c26-87b8-7b2b647fd5a2",
   "metadata": {},
   "outputs": [],
   "source": [
    "# to find rmse square root of mse...."
   ]
  },
  {
   "cell_type": "code",
   "execution_count": 237,
   "id": "def7871d-440f-4e27-8d68-19bdb62f9be8",
   "metadata": {},
   "outputs": [
    {
     "name": "stdout",
     "output_type": "stream",
     "text": [
      "RMSE train is 1849.492144616383\n",
      "RMSE test is 2404.860287039863\n"
     ]
    }
   ],
   "source": [
    "print('RMSE train is',np.sqrt(mse_train_cp)) \n",
    "print('RMSE test is',np.sqrt(mse_test_cp))"
   ]
  },
  {
   "cell_type": "code",
   "execution_count": 238,
   "id": "c30d98e1-6748-42ae-af9b-d96e0d2378f8",
   "metadata": {},
   "outputs": [],
   "source": [
    "# to find mape (err train * 100/train y) ,,absolute ,,, mean "
   ]
  },
  {
   "cell_type": "code",
   "execution_count": 239,
   "id": "87ca0710-f102-4b94-a2a0-20db774cefa1",
   "metadata": {},
   "outputs": [
    {
     "name": "stdout",
     "output_type": "stream",
     "text": [
      "MAPE train is 13.367154974551053\n",
      "MAPE test is 19.722048599311524\n"
     ]
    }
   ],
   "source": [
    "mape_train_cp = np.mean(np.abs(err_train * 100/cp_train_y))\n",
    "mape_test_cp = np.mean(np.abs(err_test * 100/cp_test_y))\n",
    "print('MAPE train is', mape_train_cp)\n",
    "print('MAPE test is', mape_test_cp)"
   ]
  },
  {
   "cell_type": "code",
   "execution_count": 240,
   "id": "469bdfd1-6dc7-4dd2-a7ed-b96305ed393b",
   "metadata": {},
   "outputs": [],
   "source": [
    "# MSE train is 7480217.515100769\n",
    "# MSE test is 11459694.914051954\n",
    "\n",
    "# RMSE train is 2734.9986316451364\n",
    "# RMSE test is 3385.217114758218\n",
    "\n",
    "# MAPE train is 17.041217441420933\n",
    "# MAPE test is 17.750385016677743"
   ]
  },
  {
   "cell_type": "code",
   "execution_count": 241,
   "id": "544fb936-37c0-43f8-b140-6254c886509e",
   "metadata": {},
   "outputs": [],
   "source": [
    "# this code used for the remove the outliers ..."
   ]
  },
  {
   "cell_type": "code",
   "execution_count": 242,
   "id": "a3af5a31-6449-43d7-9337-990f143f593a",
   "metadata": {},
   "outputs": [],
   "source": [
    "def remove_outliers(df, col, k):\n",
    "    mean = df[col].mean()\n",
    "    global df1, final_list\n",
    "    sd=df[col].std()\n",
    "    final_list=[x for x in df[col] if (x > mean - k * sd)]\n",
    "    final_list=[x for x in final_list if (x < mean + k * sd)]\n",
    "    df1 = df.loc[ df[col].isin(final_list)];\n",
    "    # print(df1.shape)\n",
    "    print('Number of outliers removed are: ', df.shape[0] - df1.shape[0])"
   ]
  },
  {
   "cell_type": "code",
   "execution_count": 243,
   "id": "6955cb54-e30e-4837-9fcf-02c7c66e7295",
   "metadata": {},
   "outputs": [
    {
     "name": "stdout",
     "output_type": "stream",
     "text": [
      "Number of outliers removed are:  3\n"
     ]
    }
   ],
   "source": [
    "remove_outliers(cp, 'price',2)   # call the function ,,,only add the valuesss\n"
   ]
  },
  {
   "cell_type": "code",
   "execution_count": 244,
   "id": "ec698068-5942-466f-82fa-f11beb0cbc4a",
   "metadata": {},
   "outputs": [],
   "source": [
    "cp = df1\n",
    "\n",
    "\n",
    "# this cp = df1 ,, is used after the nulls values remove and before creating the sk learn model\n",
    "#  this if we run it again from cp = df1 to last ,,,\n",
    "# it will remove more outliers .\n",
    "# and graph will looks more nomally distributeddd........\n"
   ]
  },
  {
   "cell_type": "code",
   "execution_count": null,
   "id": "76fc64ef-41bf-48e6-82f5-1644ec5bce7c",
   "metadata": {},
   "outputs": [],
   "source": []
  },
  {
   "cell_type": "code",
   "execution_count": null,
   "id": "aa0670c7-d790-474d-9c8c-8f5706d05ed3",
   "metadata": {},
   "outputs": [],
   "source": []
  },
  {
   "cell_type": "code",
   "execution_count": null,
   "id": "57302b6e-79c2-4c33-99fc-3d03a8e74aae",
   "metadata": {},
   "outputs": [],
   "source": []
  },
  {
   "cell_type": "code",
   "execution_count": null,
   "id": "3bdf9291-0a37-4ada-8f93-1cad0022eb9f",
   "metadata": {},
   "outputs": [],
   "source": []
  },
  {
   "cell_type": "code",
   "execution_count": null,
   "id": "a99c849a-8d14-4bca-a5d0-0723c4040d0e",
   "metadata": {},
   "outputs": [],
   "source": []
  },
  {
   "cell_type": "code",
   "execution_count": null,
   "id": "f9311882-45b2-40e8-835e-ca7ef09cab87",
   "metadata": {},
   "outputs": [],
   "source": []
  },
  {
   "cell_type": "code",
   "execution_count": null,
   "id": "0d66fc7f-97b9-407d-9ecf-c31904d2a0be",
   "metadata": {},
   "outputs": [],
   "source": []
  },
  {
   "cell_type": "code",
   "execution_count": null,
   "id": "ca11aa06-1ab1-42d2-8a96-97a316717402",
   "metadata": {},
   "outputs": [],
   "source": []
  },
  {
   "cell_type": "code",
   "execution_count": null,
   "id": "3b393c37-d6a0-4d5a-8420-3751bce3ff21",
   "metadata": {},
   "outputs": [],
   "source": []
  }
 ],
 "metadata": {
  "kernelspec": {
   "display_name": "Python 3 (ipykernel)",
   "language": "python",
   "name": "python3"
  },
  "language_info": {
   "codemirror_mode": {
    "name": "ipython",
    "version": 3
   },
   "file_extension": ".py",
   "mimetype": "text/x-python",
   "name": "python",
   "nbconvert_exporter": "python",
   "pygments_lexer": "ipython3",
   "version": "3.12.4"
  }
 },
 "nbformat": 4,
 "nbformat_minor": 5
}
